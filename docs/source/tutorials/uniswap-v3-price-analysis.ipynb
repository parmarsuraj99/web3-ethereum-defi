{
 "cells": [
  {
   "attachments": {},
   "cell_type": "markdown",
   "metadata": {},
   "source": [
    "# Uniswap V3 price analysis\n",
    "\n",
    "In this notebook we will show how to download price events from Uniswap V3 to your computer as CSV files and use them to analyse price in each pool.\n",
    "\n",
    "* For more background information, see [this blog post about the topic](https://tradingstrategy.ai/blog/uniswap-data-research-with-jupyter-and-python)\n",
    "\n",
    "* You need to understand [Jupyter Notebook and Pandas basics](https://jakevdp.github.io/PythonDataScienceHandbook/)\n",
    "\n",
    "* You need to understand [Ethereum](https://github.com/ethereumbook/ethereumbook) and [Web3.py basics](https://web3py.readthedocs.io/)\n",
    "\n",
    "* You will need to have [Ethereum API node and its JSON-RPC URL](https://ethereumnodes.com/) in order to pull out the data from Ethereum blockchain. The notebook will interactively ask you for your API key.\n",
    "\n",
    "* You can click *Launch binder* button on this documentation page to automatically open this notebook to be run in\n",
    "  [Binder cloud notebook service](https://mybinder.org/). Note that we recommend to run the notebook\n",
    "  on your local computer, as generated CSV needs are large and take long time to generate."
   ]
  },
  {
   "attachments": {},
   "cell_type": "markdown",
   "metadata": {},
   "source": [
    "### Download the raw data from Ethereum blockchain\n",
    "\n",
    "For simplicity, you can sign up for free access to an Ethereum node for example at [Infura](https://infura.io/), however we recommend you to [run your own Ethereum node](https://tradingstrategy.ai/blog/preparing-a-server-for-hosting-goethereum-full-node)."
   ]
  },
  {
   "cell_type": "code",
   "execution_count": 1,
   "metadata": {},
   "outputs": [],
   "source": [
    "from web3 import Web3, HTTPProvider\n",
    "\n",
    "# Get your node JSON-RPC URL\n",
    "#json_rpc_url = input(\"Please enter your Ethereum mainnet JSON-RPC URL here\")\n",
    "json_rpc_url = \"https://eth-mainnet.g.alchemy.com/v2/h45KpuNet-ON7w9ddDT2UJ7-Kie-tlSt\"\n",
    "json_rpc_url = \"https://mainnet.infura.io/v3/eb7d65c7b1334891b7e439353e1aef00\"\n",
    "web3 = Web3(HTTPProvider(json_rpc_url))"
   ]
  },
  {
   "attachments": {},
   "cell_type": "markdown",
   "metadata": {},
   "source": []
  },
  {
   "attachments": {},
   "cell_type": "markdown",
   "metadata": {},
   "source": [
    "As an example, here we download raw events from first few blocks after Uniswap V3 was deployed.\n",
    "The events will be stored in several CSV files at `/tmp` folder.\n",
    "\n",
    "Depends on your internet connection and latency to the Ethereum node, the scan might take hours. However it can resume in case there is a crash, as we save the last scanned block in a JSON state file."
   ]
  },
  {
   "cell_type": "code",
   "execution_count": 2,
   "metadata": {},
   "outputs": [
    {
     "name": "stderr",
     "output_type": "stream",
     "text": [
      "/home/codespace/.python/current/lib/python3.10/site-packages/tqdm/auto.py:21: TqdmWarning: IProgress not found. Please update jupyter and ipywidgets. See https://ipywidgets.readthedocs.io/en/stable/user_install.html\n",
      "  from .autonotebook import tqdm as notebook_tqdm\n"
     ]
    },
    {
     "name": "stdout",
     "output_type": "stream",
     "text": [
      "rm: cannot remove 'tmp': No such file or directory\n",
      "No previous scan done, starting fresh from block 12,369,621, total 50,000 blocks\n",
      "Scanning block range 12,369,621 - 12,419,621\n"
     ]
    },
    {
     "name": "stderr",
     "output_type": "stream",
     "text": [
      "Block: 12,419,621, events: 249,616, time:2021-05-12: : 50100it [05:15, 158.90it/s]                         "
     ]
    },
    {
     "name": "stdout",
     "output_type": "stream",
     "text": [
      "Wrote 0 PoolCreated events\n",
      "Wrote 230065 Swap events\n",
      "Wrote 14077 Mint events\n",
      "Wrote 4619 Burn events\n"
     ]
    },
    {
     "name": "stderr",
     "output_type": "stream",
     "text": [
      "\n"
     ]
    }
   ],
   "source": [
    "from eth_defi.uniswap_v3.constants import UNISWAP_V3_FACTORY_CREATED_AT_BLOCK\n",
    "from eth_defi.uniswap_v3.events import fetch_events_to_csv\n",
    "from eth_defi.event_reader.json_state import JSONFileScanState\n",
    "\n",
    "start_block = UNISWAP_V3_FACTORY_CREATED_AT_BLOCK\n",
    "end_block = UNISWAP_V3_FACTORY_CREATED_AT_BLOCK + 50000\n",
    "\n",
    "!rm -r tmp & mkdir tmp\n",
    "# Stores the last block number of event data we store\n",
    "state = JSONFileScanState(\"tmp/uniswap-v3-price-scan.json\")\n",
    "\n",
    "fetch_events_to_csv(json_rpc_url, state, start_block=start_block, end_block=end_block, max_workers=4, output_folder=\"tmp/\")"
   ]
  },
  {
   "attachments": {},
   "cell_type": "markdown",
   "metadata": {},
   "source": [
    "### Analysing Uniswap v3 price formation\n",
    "\n",
    "In Uniswap V3, you can get the current price of any pool from any given moment using swap events."
   ]
  },
  {
   "cell_type": "code",
   "execution_count": 3,
   "metadata": {},
   "outputs": [
    {
     "name": "stdout",
     "output_type": "stream",
     "text": [
      "We have total 230,065 swaps in the dataset\n"
     ]
    }
   ],
   "source": [
    "import pandas as pd\n",
    "\n",
    "swap_df = pd.read_csv(\"tmp/uniswap-v3-swap.csv\")\n",
    "\n",
    "print(f\"We have total {len(swap_df):,} swaps in the dataset\")"
   ]
  },
  {
   "attachments": {},
   "cell_type": "markdown",
   "metadata": {},
   "source": [
    "Choose a pool to analyse, for example: USDC/ETH 0.3%.\n",
    "You can find pool addresses [on Uniswap v3 info site](https://info.uniswap.org/#/)."
   ]
  },
  {
   "cell_type": "code",
   "execution_count": 5,
   "metadata": {},
   "outputs": [
    {
     "name": "stdout",
     "output_type": "stream",
     "text": [
      "Pool 0x8ad599c3A0ff1De082011EFDDc58f1908eb6e6D8 is USDC-WETH, with the fee 0.3000%\n",
      "token0 is <USD Coin (USDC) at 0xA0b86991c6218b36c1d19D4a2e9Eb0cE3606eB48, 6 decimals, on chain 1> with 6 decimals\n",
      "token1 is <Wrapped Ether (WETH) at 0xC02aaA39b223FE8D0A0e5C4F27eAD9083C756Cc2, 18 decimals, on chain 1> with 18 decimals\n"
     ]
    }
   ],
   "source": [
    "from eth_defi.uniswap_v3.pool import fetch_pool_details\n",
    "\n",
    "pool_address = \"0x8ad599c3A0ff1De082011EFDDc58f1908eb6e6D8\"\n",
    "pool_details = fetch_pool_details(web3, pool_address)\n",
    "\n",
    "print(pool_details)\n",
    "print(\"token0 is\", pool_details.token0, \"with\", pool_details.token0.decimals, \"decimals\")\n",
    "print(\"token1 is\", pool_details.token1, \"with\", pool_details.token1.decimals, \"decimals\")"
   ]
  },
  {
   "attachments": {},
   "cell_type": "markdown",
   "metadata": {},
   "source": [
    "Extract the swaps of this pool from the Uniswap v3 full dataset of all pools."
   ]
  },
  {
   "cell_type": "code",
   "execution_count": 6,
   "metadata": {},
   "outputs": [
    {
     "data": {
      "text/html": [
       "<div>\n",
       "<style scoped>\n",
       "    .dataframe tbody tr th:only-of-type {\n",
       "        vertical-align: middle;\n",
       "    }\n",
       "\n",
       "    .dataframe tbody tr th {\n",
       "        vertical-align: top;\n",
       "    }\n",
       "\n",
       "    .dataframe thead th {\n",
       "        text-align: right;\n",
       "    }\n",
       "</style>\n",
       "<table border=\"1\" class=\"dataframe\">\n",
       "  <thead>\n",
       "    <tr style=\"text-align: right;\">\n",
       "      <th></th>\n",
       "      <th>block_number</th>\n",
       "      <th>timestamp</th>\n",
       "      <th>tx_hash</th>\n",
       "      <th>log_index</th>\n",
       "      <th>pool_contract_address</th>\n",
       "      <th>amount0</th>\n",
       "      <th>amount1</th>\n",
       "      <th>sqrt_price_x96</th>\n",
       "      <th>liquidity</th>\n",
       "      <th>tick</th>\n",
       "    </tr>\n",
       "  </thead>\n",
       "  <tbody>\n",
       "    <tr>\n",
       "      <th>19</th>\n",
       "      <td>305599350</td>\n",
       "      <td>2021-05-05T01:56:23</td>\n",
       "      <td>0xce7c3c307d820785caa12938012372fc9366a614a6aa...</td>\n",
       "      <td>26</td>\n",
       "      <td>0x8ad599c3a0ff1de082011efddc58f1908eb6e6d8</td>\n",
       "      <td>-329608</td>\n",
       "      <td>100000000000000</td>\n",
       "      <td>1377932816571815120446551350158799</td>\n",
       "      <td>4303369674465501</td>\n",
       "      <td>195285</td>\n",
       "    </tr>\n",
       "    <tr>\n",
       "      <th>21</th>\n",
       "      <td>305606962</td>\n",
       "      <td>2021-05-05T08:23:26</td>\n",
       "      <td>0x9a1c51b0bffbf840948f3b6e3f3e495ba1cd3fa64854...</td>\n",
       "      <td>192</td>\n",
       "      <td>0x8ad599c3a0ff1de082011efddc58f1908eb6e6d8</td>\n",
       "      <td>-164694492</td>\n",
       "      <td>50000000000000000</td>\n",
       "      <td>1378850591292581266780357299649652</td>\n",
       "      <td>4303369674465501</td>\n",
       "      <td>195298</td>\n",
       "    </tr>\n",
       "    <tr>\n",
       "      <th>25</th>\n",
       "      <td>305607968</td>\n",
       "      <td>2021-05-05T09:50:51</td>\n",
       "      <td>0xc58715c62a5bf70a6ca09f0e51546d6cad76c8d4fff0...</td>\n",
       "      <td>8</td>\n",
       "      <td>0x8ad599c3a0ff1de082011efddc58f1908eb6e6d8</td>\n",
       "      <td>-329169</td>\n",
       "      <td>100000000000000</td>\n",
       "      <td>1378852426842022799073024911548633</td>\n",
       "      <td>4303369674465501</td>\n",
       "      <td>195298</td>\n",
       "    </tr>\n",
       "    <tr>\n",
       "      <th>26</th>\n",
       "      <td>305610871</td>\n",
       "      <td>2021-05-05T11:59:57</td>\n",
       "      <td>0x288c21b8b4fbf449b1d086a06e43b124ac2bc088c3f5...</td>\n",
       "      <td>86</td>\n",
       "      <td>0x8ad599c3a0ff1de082011efddc58f1908eb6e6d8</td>\n",
       "      <td>2</td>\n",
       "      <td>-329169</td>\n",
       "      <td>1378852426842016741051966412054516</td>\n",
       "      <td>4304946248093346</td>\n",
       "      <td>195298</td>\n",
       "    </tr>\n",
       "    <tr>\n",
       "      <th>27</th>\n",
       "      <td>305611552</td>\n",
       "      <td>2021-05-05T12:56:56</td>\n",
       "      <td>0x67502d8ba373287f6d301f6baa77c5a5f4c80d0753c3...</td>\n",
       "      <td>257</td>\n",
       "      <td>0x8ad599c3a0ff1de082011efddc58f1908eb6e6d8</td>\n",
       "      <td>1559137299</td>\n",
       "      <td>-467880854065813753</td>\n",
       "      <td>1370241555019945317645788135487819</td>\n",
       "      <td>4304946248093346</td>\n",
       "      <td>195173</td>\n",
       "    </tr>\n",
       "    <tr>\n",
       "      <th>...</th>\n",
       "      <td>...</td>\n",
       "      <td>...</td>\n",
       "      <td>...</td>\n",
       "      <td>...</td>\n",
       "      <td>...</td>\n",
       "      <td>...</td>\n",
       "      <td>...</td>\n",
       "      <td>...</td>\n",
       "      <td>...</td>\n",
       "      <td>...</td>\n",
       "    </tr>\n",
       "    <tr>\n",
       "      <th>229905</th>\n",
       "      <td>306287987</td>\n",
       "      <td>2021-05-12T12:19:29</td>\n",
       "      <td>0x3d60ccfdf9a73559fd67b3d61c1b8df818fabc3c58d0...</td>\n",
       "      <td>202</td>\n",
       "      <td>0x8ad599c3a0ff1de082011efddc58f1908eb6e6d8</td>\n",
       "      <td>-121343674742</td>\n",
       "      <td>28500000000000000000</td>\n",
       "      <td>1212616016829038047196588117720006</td>\n",
       "      <td>4900548451510204614</td>\n",
       "      <td>192728</td>\n",
       "    </tr>\n",
       "    <tr>\n",
       "      <th>229913</th>\n",
       "      <td>306287988</td>\n",
       "      <td>2021-05-12T12:19:42</td>\n",
       "      <td>0xbf1c96166853a2d79bee48e9dd9505271117f97e347d...</td>\n",
       "      <td>299</td>\n",
       "      <td>0x8ad599c3a0ff1de082011efddc58f1908eb6e6d8</td>\n",
       "      <td>-500000000</td>\n",
       "      <td>117479734769371502</td>\n",
       "      <td>1212617910449823497314879623764715</td>\n",
       "      <td>4900548451510204614</td>\n",
       "      <td>192728</td>\n",
       "    </tr>\n",
       "    <tr>\n",
       "      <th>229963</th>\n",
       "      <td>306288017</td>\n",
       "      <td>2021-05-12T12:23:08</td>\n",
       "      <td>0x62c06d5e8b33d3d67d07a4ab94703b46a3353f8429c3...</td>\n",
       "      <td>29</td>\n",
       "      <td>0x8ad599c3a0ff1de082011efddc58f1908eb6e6d8</td>\n",
       "      <td>598149816408</td>\n",
       "      <td>-139429800000000000000</td>\n",
       "      <td>1210253165812151065161204850279619</td>\n",
       "      <td>4604186493253165906</td>\n",
       "      <td>192689</td>\n",
       "    </tr>\n",
       "    <tr>\n",
       "      <th>230021</th>\n",
       "      <td>306288133</td>\n",
       "      <td>2021-05-12T12:25:28</td>\n",
       "      <td>0xa84bab530b443d6ff2ad53322ec5762671013accd201...</td>\n",
       "      <td>343</td>\n",
       "      <td>0x8ad599c3a0ff1de082011efddc58f1908eb6e6d8</td>\n",
       "      <td>-32588591970</td>\n",
       "      <td>7628000000000000000</td>\n",
       "      <td>1210384033527277456045735847478000</td>\n",
       "      <td>4604186493253165906</td>\n",
       "      <td>192691</td>\n",
       "    </tr>\n",
       "    <tr>\n",
       "      <th>230060</th>\n",
       "      <td>306288160</td>\n",
       "      <td>2021-05-12T12:29:35</td>\n",
       "      <td>0x858a676973dccd71ecc38afab6d7452e8e6a1149e435...</td>\n",
       "      <td>45</td>\n",
       "      <td>0x8ad599c3a0ff1de082011efddc58f1908eb6e6d8</td>\n",
       "      <td>178169250000</td>\n",
       "      <td>-41434224255171515783</td>\n",
       "      <td>1209671039503740039725304466214508</td>\n",
       "      <td>4604186493253165906</td>\n",
       "      <td>192680</td>\n",
       "    </tr>\n",
       "  </tbody>\n",
       "</table>\n",
       "<p>4206 rows × 10 columns</p>\n",
       "</div>"
      ],
      "text/plain": [
       "        block_number            timestamp  \\\n",
       "19         305599350  2021-05-05T01:56:23   \n",
       "21         305606962  2021-05-05T08:23:26   \n",
       "25         305607968  2021-05-05T09:50:51   \n",
       "26         305610871  2021-05-05T11:59:57   \n",
       "27         305611552  2021-05-05T12:56:56   \n",
       "...              ...                  ...   \n",
       "229905     306287987  2021-05-12T12:19:29   \n",
       "229913     306287988  2021-05-12T12:19:42   \n",
       "229963     306288017  2021-05-12T12:23:08   \n",
       "230021     306288133  2021-05-12T12:25:28   \n",
       "230060     306288160  2021-05-12T12:29:35   \n",
       "\n",
       "                                                  tx_hash  log_index  \\\n",
       "19      0xce7c3c307d820785caa12938012372fc9366a614a6aa...         26   \n",
       "21      0x9a1c51b0bffbf840948f3b6e3f3e495ba1cd3fa64854...        192   \n",
       "25      0xc58715c62a5bf70a6ca09f0e51546d6cad76c8d4fff0...          8   \n",
       "26      0x288c21b8b4fbf449b1d086a06e43b124ac2bc088c3f5...         86   \n",
       "27      0x67502d8ba373287f6d301f6baa77c5a5f4c80d0753c3...        257   \n",
       "...                                                   ...        ...   \n",
       "229905  0x3d60ccfdf9a73559fd67b3d61c1b8df818fabc3c58d0...        202   \n",
       "229913  0xbf1c96166853a2d79bee48e9dd9505271117f97e347d...        299   \n",
       "229963  0x62c06d5e8b33d3d67d07a4ab94703b46a3353f8429c3...         29   \n",
       "230021  0xa84bab530b443d6ff2ad53322ec5762671013accd201...        343   \n",
       "230060  0x858a676973dccd71ecc38afab6d7452e8e6a1149e435...         45   \n",
       "\n",
       "                             pool_contract_address        amount0  \\\n",
       "19      0x8ad599c3a0ff1de082011efddc58f1908eb6e6d8        -329608   \n",
       "21      0x8ad599c3a0ff1de082011efddc58f1908eb6e6d8     -164694492   \n",
       "25      0x8ad599c3a0ff1de082011efddc58f1908eb6e6d8        -329169   \n",
       "26      0x8ad599c3a0ff1de082011efddc58f1908eb6e6d8              2   \n",
       "27      0x8ad599c3a0ff1de082011efddc58f1908eb6e6d8     1559137299   \n",
       "...                                            ...            ...   \n",
       "229905  0x8ad599c3a0ff1de082011efddc58f1908eb6e6d8  -121343674742   \n",
       "229913  0x8ad599c3a0ff1de082011efddc58f1908eb6e6d8     -500000000   \n",
       "229963  0x8ad599c3a0ff1de082011efddc58f1908eb6e6d8   598149816408   \n",
       "230021  0x8ad599c3a0ff1de082011efddc58f1908eb6e6d8   -32588591970   \n",
       "230060  0x8ad599c3a0ff1de082011efddc58f1908eb6e6d8   178169250000   \n",
       "\n",
       "                       amount1                      sqrt_price_x96  \\\n",
       "19             100000000000000  1377932816571815120446551350158799   \n",
       "21           50000000000000000  1378850591292581266780357299649652   \n",
       "25             100000000000000  1378852426842022799073024911548633   \n",
       "26                     -329169  1378852426842016741051966412054516   \n",
       "27         -467880854065813753  1370241555019945317645788135487819   \n",
       "...                        ...                                 ...   \n",
       "229905    28500000000000000000  1212616016829038047196588117720006   \n",
       "229913      117479734769371502  1212617910449823497314879623764715   \n",
       "229963  -139429800000000000000  1210253165812151065161204850279619   \n",
       "230021     7628000000000000000  1210384033527277456045735847478000   \n",
       "230060   -41434224255171515783  1209671039503740039725304466214508   \n",
       "\n",
       "                  liquidity    tick  \n",
       "19         4303369674465501  195285  \n",
       "21         4303369674465501  195298  \n",
       "25         4303369674465501  195298  \n",
       "26         4304946248093346  195298  \n",
       "27         4304946248093346  195173  \n",
       "...                     ...     ...  \n",
       "229905  4900548451510204614  192728  \n",
       "229913  4900548451510204614  192728  \n",
       "229963  4604186493253165906  192689  \n",
       "230021  4604186493253165906  192691  \n",
       "230060  4604186493253165906  192680  \n",
       "\n",
       "[4206 rows x 10 columns]"
      ]
     },
     "execution_count": 6,
     "metadata": {},
     "output_type": "execute_result"
    }
   ],
   "source": [
    "df = swap_df.loc[swap_df.pool_contract_address == pool_address.lower()]\n",
    "df"
   ]
  },
  {
   "attachments": {},
   "cell_type": "markdown",
   "metadata": {},
   "source": [
    "In Uniswap V3, we can get pool's price from pool's tick."
   ]
  },
  {
   "cell_type": "code",
   "execution_count": 7,
   "metadata": {},
   "outputs": [
    {
     "data": {
      "text/html": [
       "<div>\n",
       "<style scoped>\n",
       "    .dataframe tbody tr th:only-of-type {\n",
       "        vertical-align: middle;\n",
       "    }\n",
       "\n",
       "    .dataframe tbody tr th {\n",
       "        vertical-align: top;\n",
       "    }\n",
       "\n",
       "    .dataframe thead th {\n",
       "        text-align: right;\n",
       "    }\n",
       "</style>\n",
       "<table border=\"1\" class=\"dataframe\">\n",
       "  <thead>\n",
       "    <tr style=\"text-align: right;\">\n",
       "      <th></th>\n",
       "      <th>block_number</th>\n",
       "      <th>timestamp</th>\n",
       "      <th>tick</th>\n",
       "      <th>price</th>\n",
       "      <th>value</th>\n",
       "    </tr>\n",
       "  </thead>\n",
       "  <tbody>\n",
       "    <tr>\n",
       "      <th>19</th>\n",
       "      <td>305599350</td>\n",
       "      <td>2021-05-05T01:56:23</td>\n",
       "      <td>195285</td>\n",
       "      <td>3306.010570811264180309745625</td>\n",
       "      <td>0.329608</td>\n",
       "    </tr>\n",
       "    <tr>\n",
       "      <th>21</th>\n",
       "      <td>305606962</td>\n",
       "      <td>2021-05-05T08:23:26</td>\n",
       "      <td>195298</td>\n",
       "      <td>3301.715764035195654815931489</td>\n",
       "      <td>164.694492</td>\n",
       "    </tr>\n",
       "    <tr>\n",
       "      <th>25</th>\n",
       "      <td>305607968</td>\n",
       "      <td>2021-05-05T09:50:51</td>\n",
       "      <td>195298</td>\n",
       "      <td>3301.715764035195654815931489</td>\n",
       "      <td>0.329169</td>\n",
       "    </tr>\n",
       "    <tr>\n",
       "      <th>26</th>\n",
       "      <td>305610871</td>\n",
       "      <td>2021-05-05T11:59:57</td>\n",
       "      <td>195298</td>\n",
       "      <td>3301.715764035195654815931489</td>\n",
       "      <td>0.000002</td>\n",
       "    </tr>\n",
       "    <tr>\n",
       "      <th>27</th>\n",
       "      <td>305611552</td>\n",
       "      <td>2021-05-05T12:56:56</td>\n",
       "      <td>195173</td>\n",
       "      <td>3343.244146385107981172857028</td>\n",
       "      <td>1559.137299</td>\n",
       "    </tr>\n",
       "    <tr>\n",
       "      <th>...</th>\n",
       "      <td>...</td>\n",
       "      <td>...</td>\n",
       "      <td>...</td>\n",
       "      <td>...</td>\n",
       "      <td>...</td>\n",
       "    </tr>\n",
       "    <tr>\n",
       "      <th>229905</th>\n",
       "      <td>306287987</td>\n",
       "      <td>2021-05-12T12:19:29</td>\n",
       "      <td>192728</td>\n",
       "      <td>4269.212622552637615588172193</td>\n",
       "      <td>121343.674742</td>\n",
       "    </tr>\n",
       "    <tr>\n",
       "      <th>229913</th>\n",
       "      <td>306287988</td>\n",
       "      <td>2021-05-12T12:19:42</td>\n",
       "      <td>192728</td>\n",
       "      <td>4269.212622552637615588172193</td>\n",
       "      <td>500.000000</td>\n",
       "    </tr>\n",
       "    <tr>\n",
       "      <th>229963</th>\n",
       "      <td>306288017</td>\n",
       "      <td>2021-05-12T12:23:08</td>\n",
       "      <td>192689</td>\n",
       "      <td>4285.894225697599469809930042</td>\n",
       "      <td>598149.816408</td>\n",
       "    </tr>\n",
       "    <tr>\n",
       "      <th>230021</th>\n",
       "      <td>306288133</td>\n",
       "      <td>2021-05-12T12:25:28</td>\n",
       "      <td>192691</td>\n",
       "      <td>4285.037175412145286631150947</td>\n",
       "      <td>32588.591970</td>\n",
       "    </tr>\n",
       "    <tr>\n",
       "      <th>230060</th>\n",
       "      <td>306288160</td>\n",
       "      <td>2021-05-12T12:29:35</td>\n",
       "      <td>192680</td>\n",
       "      <td>4289.753073782717683094997011</td>\n",
       "      <td>178169.250000</td>\n",
       "    </tr>\n",
       "  </tbody>\n",
       "</table>\n",
       "<p>4206 rows × 5 columns</p>\n",
       "</div>"
      ],
      "text/plain": [
       "        block_number            timestamp    tick  \\\n",
       "19         305599350  2021-05-05T01:56:23  195285   \n",
       "21         305606962  2021-05-05T08:23:26  195298   \n",
       "25         305607968  2021-05-05T09:50:51  195298   \n",
       "26         305610871  2021-05-05T11:59:57  195298   \n",
       "27         305611552  2021-05-05T12:56:56  195173   \n",
       "...              ...                  ...     ...   \n",
       "229905     306287987  2021-05-12T12:19:29  192728   \n",
       "229913     306287988  2021-05-12T12:19:42  192728   \n",
       "229963     306288017  2021-05-12T12:23:08  192689   \n",
       "230021     306288133  2021-05-12T12:25:28  192691   \n",
       "230060     306288160  2021-05-12T12:29:35  192680   \n",
       "\n",
       "                                price          value  \n",
       "19      3306.010570811264180309745625       0.329608  \n",
       "21      3301.715764035195654815931489     164.694492  \n",
       "25      3301.715764035195654815931489       0.329169  \n",
       "26      3301.715764035195654815931489       0.000002  \n",
       "27      3343.244146385107981172857028    1559.137299  \n",
       "...                               ...            ...  \n",
       "229905  4269.212622552637615588172193  121343.674742  \n",
       "229913  4269.212622552637615588172193     500.000000  \n",
       "229963  4285.894225697599469809930042  598149.816408  \n",
       "230021  4285.037175412145286631150947   32588.591970  \n",
       "230060  4289.753073782717683094997011  178169.250000  \n",
       "\n",
       "[4206 rows x 5 columns]"
      ]
     },
     "execution_count": 7,
     "metadata": {},
     "output_type": "execute_result"
    }
   ],
   "source": [
    "def convert_price(row):\n",
    "    # USDC/WETH pool has reverse token order, so let's flip it WETH/USDC\n",
    "    tick = row[\"tick\"]\n",
    "    return pool_details.convert_price_to_human(tick, reverse_token_order=True)\n",
    "\n",
    "def convert_value(row):\n",
    "    # USDC is token0 and amount0\n",
    "    price = float(row[\"price\"])\n",
    "    return abs(float(row[\"amount0\"])) / (10**pool_details.token0.decimals)\n",
    "\n",
    "df = df.copy(deep=True)  # https://stackoverflow.com/a/60885847/315168\n",
    "df[\"price\"] = df.apply(convert_price, axis=1)\n",
    "df[\"value\"] = df.apply(convert_value, axis=1)\n",
    "df[[\"block_number\", \"timestamp\", \"tick\", \"price\", \"value\"]]"
   ]
  },
  {
   "attachments": {},
   "cell_type": "markdown",
   "metadata": {},
   "source": [
    "Then we can convert linear price data to [OHLC candles](https://tradingstrategy.ai/docs/glossary.html#term-OHLCV)."
   ]
  },
  {
   "cell_type": "code",
   "execution_count": 54,
   "metadata": {},
   "outputs": [],
   "source": [
    "agg_dict = {'open': 'first',\n",
    "          'high': 'max',\n",
    "          'low': 'min',\n",
    "          'close': 'last',\n",
    "          }\n",
    "\n",
    "freq = \"1D\"\n",
    "agg_df = df.set_index(\"timestamp\")[\"price\"].resample(freq).agg(agg_dict)\n",
    "agg_df[\"volume\"] = df.set_index(\"timestamp\")[\"value\"].resample(freq).sum()\n",
    "agg_df = agg_df.fillna(method=\"ffill\")"
   ]
  },
  {
   "cell_type": "code",
   "execution_count": 55,
   "metadata": {},
   "outputs": [],
   "source": [
    "candles = agg_df.copy(deep=True)"
   ]
  },
  {
   "attachments": {},
   "cell_type": "markdown",
   "metadata": {
    "collapsed": false,
    "pycharm": {
     "name": "#%% md\n"
    }
   },
   "source": [
    "### Drawing OHLCV chart\n",
    "\n",
    "Now we can plot the [OHLC chart using Plotly](https://plotly.com/python/ohlc-charts/)."
   ]
  },
  {
   "cell_type": "code",
   "execution_count": 56,
   "metadata": {
    "pycharm": {
     "name": "#%%\n"
    }
   },
   "outputs": [
    {
     "data": {
      "application/vnd.plotly.v1+json": {
       "config": {
        "plotlyServerURL": "https://plot.ly"
       },
       "data": [
        {
         "close": [
          3521.3309962245926,
          3485.9463157871896,
          3475.852219681079,
          3895.9361124481907,
          3911.55028372714,
          3940.207640048919,
          4172.563343530358,
          4289.753073782717
         ],
         "high": [
          3540.0426570396253,
          3591.385485409976,
          3573.1169571875785,
          3955.999243193994,
          3976.225360807272,
          4187.1921693158965,
          4172.563343530358,
          4372.470660088256
         ],
         "low": [
          3301.7157640351957,
          3371.781406335665,
          3383.941085715727,
          3472.7255162435213,
          3754.0521964128743,
          3672.36894234777,
          3721.1631057438917,
          4165.892913463661
         ],
         "open": [
          3306.010570811264,
          3517.8116011859747,
          3486.2949104187683,
          3478.9817382776064,
          3895.5465577924115,
          3911.55028372714,
          3945.72751776857,
          4172.563343530358
         ],
         "showlegend": false,
         "type": "candlestick",
         "x": [
          "2021-05-05T00:00:00",
          "2021-05-06T00:00:00",
          "2021-05-07T00:00:00",
          "2021-05-08T00:00:00",
          "2021-05-09T00:00:00",
          "2021-05-10T00:00:00",
          "2021-05-11T00:00:00",
          "2021-05-12T00:00:00"
         ],
         "xaxis": "x",
         "yaxis": "y2"
        },
        {
         "marker": {
          "color": "rgba(128,128,128,0.5)"
         },
         "showlegend": false,
         "type": "bar",
         "x": [
          "2021-05-05T00:00:00",
          "2021-05-06T00:00:00",
          "2021-05-07T00:00:00",
          "2021-05-08T00:00:00",
          "2021-05-09T00:00:00",
          "2021-05-10T00:00:00",
          "2021-05-11T00:00:00",
          "2021-05-12T00:00:00"
         ],
         "xaxis": "x",
         "y": [
          2287051.086556,
          44235486.646272,
          46758915.313789,
          55167110.831948,
          71767187.274653,
          129216021.704286,
          134199644.141448,
          44029953.77841
         ],
         "yaxis": "y"
        }
       ],
       "layout": {
        "height": 800,
        "template": {
         "data": {
          "bar": [
           {
            "error_x": {
             "color": "#2a3f5f"
            },
            "error_y": {
             "color": "#2a3f5f"
            },
            "marker": {
             "line": {
              "color": "#E5ECF6",
              "width": 0.5
             },
             "pattern": {
              "fillmode": "overlay",
              "size": 10,
              "solidity": 0.2
             }
            },
            "type": "bar"
           }
          ],
          "barpolar": [
           {
            "marker": {
             "line": {
              "color": "#E5ECF6",
              "width": 0.5
             },
             "pattern": {
              "fillmode": "overlay",
              "size": 10,
              "solidity": 0.2
             }
            },
            "type": "barpolar"
           }
          ],
          "carpet": [
           {
            "aaxis": {
             "endlinecolor": "#2a3f5f",
             "gridcolor": "white",
             "linecolor": "white",
             "minorgridcolor": "white",
             "startlinecolor": "#2a3f5f"
            },
            "baxis": {
             "endlinecolor": "#2a3f5f",
             "gridcolor": "white",
             "linecolor": "white",
             "minorgridcolor": "white",
             "startlinecolor": "#2a3f5f"
            },
            "type": "carpet"
           }
          ],
          "choropleth": [
           {
            "colorbar": {
             "outlinewidth": 0,
             "ticks": ""
            },
            "type": "choropleth"
           }
          ],
          "contour": [
           {
            "colorbar": {
             "outlinewidth": 0,
             "ticks": ""
            },
            "colorscale": [
             [
              0,
              "#0d0887"
             ],
             [
              0.1111111111111111,
              "#46039f"
             ],
             [
              0.2222222222222222,
              "#7201a8"
             ],
             [
              0.3333333333333333,
              "#9c179e"
             ],
             [
              0.4444444444444444,
              "#bd3786"
             ],
             [
              0.5555555555555556,
              "#d8576b"
             ],
             [
              0.6666666666666666,
              "#ed7953"
             ],
             [
              0.7777777777777778,
              "#fb9f3a"
             ],
             [
              0.8888888888888888,
              "#fdca26"
             ],
             [
              1,
              "#f0f921"
             ]
            ],
            "type": "contour"
           }
          ],
          "contourcarpet": [
           {
            "colorbar": {
             "outlinewidth": 0,
             "ticks": ""
            },
            "type": "contourcarpet"
           }
          ],
          "heatmap": [
           {
            "colorbar": {
             "outlinewidth": 0,
             "ticks": ""
            },
            "colorscale": [
             [
              0,
              "#0d0887"
             ],
             [
              0.1111111111111111,
              "#46039f"
             ],
             [
              0.2222222222222222,
              "#7201a8"
             ],
             [
              0.3333333333333333,
              "#9c179e"
             ],
             [
              0.4444444444444444,
              "#bd3786"
             ],
             [
              0.5555555555555556,
              "#d8576b"
             ],
             [
              0.6666666666666666,
              "#ed7953"
             ],
             [
              0.7777777777777778,
              "#fb9f3a"
             ],
             [
              0.8888888888888888,
              "#fdca26"
             ],
             [
              1,
              "#f0f921"
             ]
            ],
            "type": "heatmap"
           }
          ],
          "heatmapgl": [
           {
            "colorbar": {
             "outlinewidth": 0,
             "ticks": ""
            },
            "colorscale": [
             [
              0,
              "#0d0887"
             ],
             [
              0.1111111111111111,
              "#46039f"
             ],
             [
              0.2222222222222222,
              "#7201a8"
             ],
             [
              0.3333333333333333,
              "#9c179e"
             ],
             [
              0.4444444444444444,
              "#bd3786"
             ],
             [
              0.5555555555555556,
              "#d8576b"
             ],
             [
              0.6666666666666666,
              "#ed7953"
             ],
             [
              0.7777777777777778,
              "#fb9f3a"
             ],
             [
              0.8888888888888888,
              "#fdca26"
             ],
             [
              1,
              "#f0f921"
             ]
            ],
            "type": "heatmapgl"
           }
          ],
          "histogram": [
           {
            "marker": {
             "pattern": {
              "fillmode": "overlay",
              "size": 10,
              "solidity": 0.2
             }
            },
            "type": "histogram"
           }
          ],
          "histogram2d": [
           {
            "colorbar": {
             "outlinewidth": 0,
             "ticks": ""
            },
            "colorscale": [
             [
              0,
              "#0d0887"
             ],
             [
              0.1111111111111111,
              "#46039f"
             ],
             [
              0.2222222222222222,
              "#7201a8"
             ],
             [
              0.3333333333333333,
              "#9c179e"
             ],
             [
              0.4444444444444444,
              "#bd3786"
             ],
             [
              0.5555555555555556,
              "#d8576b"
             ],
             [
              0.6666666666666666,
              "#ed7953"
             ],
             [
              0.7777777777777778,
              "#fb9f3a"
             ],
             [
              0.8888888888888888,
              "#fdca26"
             ],
             [
              1,
              "#f0f921"
             ]
            ],
            "type": "histogram2d"
           }
          ],
          "histogram2dcontour": [
           {
            "colorbar": {
             "outlinewidth": 0,
             "ticks": ""
            },
            "colorscale": [
             [
              0,
              "#0d0887"
             ],
             [
              0.1111111111111111,
              "#46039f"
             ],
             [
              0.2222222222222222,
              "#7201a8"
             ],
             [
              0.3333333333333333,
              "#9c179e"
             ],
             [
              0.4444444444444444,
              "#bd3786"
             ],
             [
              0.5555555555555556,
              "#d8576b"
             ],
             [
              0.6666666666666666,
              "#ed7953"
             ],
             [
              0.7777777777777778,
              "#fb9f3a"
             ],
             [
              0.8888888888888888,
              "#fdca26"
             ],
             [
              1,
              "#f0f921"
             ]
            ],
            "type": "histogram2dcontour"
           }
          ],
          "mesh3d": [
           {
            "colorbar": {
             "outlinewidth": 0,
             "ticks": ""
            },
            "type": "mesh3d"
           }
          ],
          "parcoords": [
           {
            "line": {
             "colorbar": {
              "outlinewidth": 0,
              "ticks": ""
             }
            },
            "type": "parcoords"
           }
          ],
          "pie": [
           {
            "automargin": true,
            "type": "pie"
           }
          ],
          "scatter": [
           {
            "fillpattern": {
             "fillmode": "overlay",
             "size": 10,
             "solidity": 0.2
            },
            "type": "scatter"
           }
          ],
          "scatter3d": [
           {
            "line": {
             "colorbar": {
              "outlinewidth": 0,
              "ticks": ""
             }
            },
            "marker": {
             "colorbar": {
              "outlinewidth": 0,
              "ticks": ""
             }
            },
            "type": "scatter3d"
           }
          ],
          "scattercarpet": [
           {
            "marker": {
             "colorbar": {
              "outlinewidth": 0,
              "ticks": ""
             }
            },
            "type": "scattercarpet"
           }
          ],
          "scattergeo": [
           {
            "marker": {
             "colorbar": {
              "outlinewidth": 0,
              "ticks": ""
             }
            },
            "type": "scattergeo"
           }
          ],
          "scattergl": [
           {
            "marker": {
             "colorbar": {
              "outlinewidth": 0,
              "ticks": ""
             }
            },
            "type": "scattergl"
           }
          ],
          "scattermapbox": [
           {
            "marker": {
             "colorbar": {
              "outlinewidth": 0,
              "ticks": ""
             }
            },
            "type": "scattermapbox"
           }
          ],
          "scatterpolar": [
           {
            "marker": {
             "colorbar": {
              "outlinewidth": 0,
              "ticks": ""
             }
            },
            "type": "scatterpolar"
           }
          ],
          "scatterpolargl": [
           {
            "marker": {
             "colorbar": {
              "outlinewidth": 0,
              "ticks": ""
             }
            },
            "type": "scatterpolargl"
           }
          ],
          "scatterternary": [
           {
            "marker": {
             "colorbar": {
              "outlinewidth": 0,
              "ticks": ""
             }
            },
            "type": "scatterternary"
           }
          ],
          "surface": [
           {
            "colorbar": {
             "outlinewidth": 0,
             "ticks": ""
            },
            "colorscale": [
             [
              0,
              "#0d0887"
             ],
             [
              0.1111111111111111,
              "#46039f"
             ],
             [
              0.2222222222222222,
              "#7201a8"
             ],
             [
              0.3333333333333333,
              "#9c179e"
             ],
             [
              0.4444444444444444,
              "#bd3786"
             ],
             [
              0.5555555555555556,
              "#d8576b"
             ],
             [
              0.6666666666666666,
              "#ed7953"
             ],
             [
              0.7777777777777778,
              "#fb9f3a"
             ],
             [
              0.8888888888888888,
              "#fdca26"
             ],
             [
              1,
              "#f0f921"
             ]
            ],
            "type": "surface"
           }
          ],
          "table": [
           {
            "cells": {
             "fill": {
              "color": "#EBF0F8"
             },
             "line": {
              "color": "white"
             }
            },
            "header": {
             "fill": {
              "color": "#C8D4E3"
             },
             "line": {
              "color": "white"
             }
            },
            "type": "table"
           }
          ]
         },
         "layout": {
          "annotationdefaults": {
           "arrowcolor": "#2a3f5f",
           "arrowhead": 0,
           "arrowwidth": 1
          },
          "autotypenumbers": "strict",
          "coloraxis": {
           "colorbar": {
            "outlinewidth": 0,
            "ticks": ""
           }
          },
          "colorscale": {
           "diverging": [
            [
             0,
             "#8e0152"
            ],
            [
             0.1,
             "#c51b7d"
            ],
            [
             0.2,
             "#de77ae"
            ],
            [
             0.3,
             "#f1b6da"
            ],
            [
             0.4,
             "#fde0ef"
            ],
            [
             0.5,
             "#f7f7f7"
            ],
            [
             0.6,
             "#e6f5d0"
            ],
            [
             0.7,
             "#b8e186"
            ],
            [
             0.8,
             "#7fbc41"
            ],
            [
             0.9,
             "#4d9221"
            ],
            [
             1,
             "#276419"
            ]
           ],
           "sequential": [
            [
             0,
             "#0d0887"
            ],
            [
             0.1111111111111111,
             "#46039f"
            ],
            [
             0.2222222222222222,
             "#7201a8"
            ],
            [
             0.3333333333333333,
             "#9c179e"
            ],
            [
             0.4444444444444444,
             "#bd3786"
            ],
            [
             0.5555555555555556,
             "#d8576b"
            ],
            [
             0.6666666666666666,
             "#ed7953"
            ],
            [
             0.7777777777777778,
             "#fb9f3a"
            ],
            [
             0.8888888888888888,
             "#fdca26"
            ],
            [
             1,
             "#f0f921"
            ]
           ],
           "sequentialminus": [
            [
             0,
             "#0d0887"
            ],
            [
             0.1111111111111111,
             "#46039f"
            ],
            [
             0.2222222222222222,
             "#7201a8"
            ],
            [
             0.3333333333333333,
             "#9c179e"
            ],
            [
             0.4444444444444444,
             "#bd3786"
            ],
            [
             0.5555555555555556,
             "#d8576b"
            ],
            [
             0.6666666666666666,
             "#ed7953"
            ],
            [
             0.7777777777777778,
             "#fb9f3a"
            ],
            [
             0.8888888888888888,
             "#fdca26"
            ],
            [
             1,
             "#f0f921"
            ]
           ]
          },
          "colorway": [
           "#636efa",
           "#EF553B",
           "#00cc96",
           "#ab63fa",
           "#FFA15A",
           "#19d3f3",
           "#FF6692",
           "#B6E880",
           "#FF97FF",
           "#FECB52"
          ],
          "font": {
           "color": "#2a3f5f"
          },
          "geo": {
           "bgcolor": "white",
           "lakecolor": "white",
           "landcolor": "#E5ECF6",
           "showlakes": true,
           "showland": true,
           "subunitcolor": "white"
          },
          "hoverlabel": {
           "align": "left"
          },
          "hovermode": "closest",
          "mapbox": {
           "style": "light"
          },
          "paper_bgcolor": "white",
          "plot_bgcolor": "#E5ECF6",
          "polar": {
           "angularaxis": {
            "gridcolor": "white",
            "linecolor": "white",
            "ticks": ""
           },
           "bgcolor": "#E5ECF6",
           "radialaxis": {
            "gridcolor": "white",
            "linecolor": "white",
            "ticks": ""
           }
          },
          "scene": {
           "xaxis": {
            "backgroundcolor": "#E5ECF6",
            "gridcolor": "white",
            "gridwidth": 2,
            "linecolor": "white",
            "showbackground": true,
            "ticks": "",
            "zerolinecolor": "white"
           },
           "yaxis": {
            "backgroundcolor": "#E5ECF6",
            "gridcolor": "white",
            "gridwidth": 2,
            "linecolor": "white",
            "showbackground": true,
            "ticks": "",
            "zerolinecolor": "white"
           },
           "zaxis": {
            "backgroundcolor": "#E5ECF6",
            "gridcolor": "white",
            "gridwidth": 2,
            "linecolor": "white",
            "showbackground": true,
            "ticks": "",
            "zerolinecolor": "white"
           }
          },
          "shapedefaults": {
           "line": {
            "color": "#2a3f5f"
           }
          },
          "ternary": {
           "aaxis": {
            "gridcolor": "white",
            "linecolor": "white",
            "ticks": ""
           },
           "baxis": {
            "gridcolor": "white",
            "linecolor": "white",
            "ticks": ""
           },
           "bgcolor": "#E5ECF6",
           "caxis": {
            "gridcolor": "white",
            "linecolor": "white",
            "ticks": ""
           }
          },
          "title": {
           "x": 0.05
          },
          "xaxis": {
           "automargin": true,
           "gridcolor": "white",
           "linecolor": "white",
           "ticks": "",
           "title": {
            "standoff": 15
           },
           "zerolinecolor": "white",
           "zerolinewidth": 2
          },
          "yaxis": {
           "automargin": true,
           "gridcolor": "white",
           "linecolor": "white",
           "ticks": "",
           "title": {
            "standoff": 15
           },
           "zerolinecolor": "white",
           "zerolinewidth": 2
          }
         }
        },
        "title": {
         "text": "ETH/USDC pool after Uniswap v3 deployment"
        },
        "xaxis": {
         "anchor": "y",
         "domain": [
          0,
          0.94
         ]
        },
        "yaxis": {
         "anchor": "x",
         "domain": [
          0,
          1
         ],
         "showgrid": false,
         "title": {
          "text": "Volume $"
         }
        },
        "yaxis2": {
         "anchor": "x",
         "overlaying": "y",
         "showgrid": true,
         "side": "right",
         "title": {
          "text": "Price $"
         }
        }
       }
      },
      "text/html": [
       "<div>                            <div id=\"1e786057-8955-4d8a-b824-524b735fb29e\" class=\"plotly-graph-div\" style=\"height:800px; width:100%;\"></div>            <script type=\"text/javascript\">                require([\"plotly\"], function(Plotly) {                    window.PLOTLYENV=window.PLOTLYENV || {};                                    if (document.getElementById(\"1e786057-8955-4d8a-b824-524b735fb29e\")) {                    Plotly.newPlot(                        \"1e786057-8955-4d8a-b824-524b735fb29e\",                        [{\"close\":[3521.3309962245926,3485.9463157871896,3475.852219681079,3895.9361124481907,3911.55028372714,3940.207640048919,4172.563343530358,4289.753073782717],\"high\":[3540.0426570396253,3591.385485409976,3573.1169571875785,3955.999243193994,3976.225360807272,4187.1921693158965,4172.563343530358,4372.470660088256],\"low\":[3301.7157640351957,3371.781406335665,3383.941085715727,3472.7255162435213,3754.0521964128743,3672.36894234777,3721.1631057438917,4165.892913463661],\"open\":[3306.010570811264,3517.8116011859747,3486.2949104187683,3478.9817382776064,3895.5465577924115,3911.55028372714,3945.72751776857,4172.563343530358],\"showlegend\":false,\"x\":[\"2021-05-05T00:00:00\",\"2021-05-06T00:00:00\",\"2021-05-07T00:00:00\",\"2021-05-08T00:00:00\",\"2021-05-09T00:00:00\",\"2021-05-10T00:00:00\",\"2021-05-11T00:00:00\",\"2021-05-12T00:00:00\"],\"type\":\"candlestick\",\"xaxis\":\"x\",\"yaxis\":\"y2\"},{\"marker\":{\"color\":\"rgba(128,128,128,0.5)\"},\"showlegend\":false,\"x\":[\"2021-05-05T00:00:00\",\"2021-05-06T00:00:00\",\"2021-05-07T00:00:00\",\"2021-05-08T00:00:00\",\"2021-05-09T00:00:00\",\"2021-05-10T00:00:00\",\"2021-05-11T00:00:00\",\"2021-05-12T00:00:00\"],\"y\":[2287051.086556,44235486.646272,46758915.313789,55167110.831948,71767187.274653,129216021.704286,134199644.141448,44029953.77841],\"type\":\"bar\",\"xaxis\":\"x\",\"yaxis\":\"y\"}],                        {\"template\":{\"data\":{\"histogram2dcontour\":[{\"type\":\"histogram2dcontour\",\"colorbar\":{\"outlinewidth\":0,\"ticks\":\"\"},\"colorscale\":[[0.0,\"#0d0887\"],[0.1111111111111111,\"#46039f\"],[0.2222222222222222,\"#7201a8\"],[0.3333333333333333,\"#9c179e\"],[0.4444444444444444,\"#bd3786\"],[0.5555555555555556,\"#d8576b\"],[0.6666666666666666,\"#ed7953\"],[0.7777777777777778,\"#fb9f3a\"],[0.8888888888888888,\"#fdca26\"],[1.0,\"#f0f921\"]]}],\"choropleth\":[{\"type\":\"choropleth\",\"colorbar\":{\"outlinewidth\":0,\"ticks\":\"\"}}],\"histogram2d\":[{\"type\":\"histogram2d\",\"colorbar\":{\"outlinewidth\":0,\"ticks\":\"\"},\"colorscale\":[[0.0,\"#0d0887\"],[0.1111111111111111,\"#46039f\"],[0.2222222222222222,\"#7201a8\"],[0.3333333333333333,\"#9c179e\"],[0.4444444444444444,\"#bd3786\"],[0.5555555555555556,\"#d8576b\"],[0.6666666666666666,\"#ed7953\"],[0.7777777777777778,\"#fb9f3a\"],[0.8888888888888888,\"#fdca26\"],[1.0,\"#f0f921\"]]}],\"heatmap\":[{\"type\":\"heatmap\",\"colorbar\":{\"outlinewidth\":0,\"ticks\":\"\"},\"colorscale\":[[0.0,\"#0d0887\"],[0.1111111111111111,\"#46039f\"],[0.2222222222222222,\"#7201a8\"],[0.3333333333333333,\"#9c179e\"],[0.4444444444444444,\"#bd3786\"],[0.5555555555555556,\"#d8576b\"],[0.6666666666666666,\"#ed7953\"],[0.7777777777777778,\"#fb9f3a\"],[0.8888888888888888,\"#fdca26\"],[1.0,\"#f0f921\"]]}],\"heatmapgl\":[{\"type\":\"heatmapgl\",\"colorbar\":{\"outlinewidth\":0,\"ticks\":\"\"},\"colorscale\":[[0.0,\"#0d0887\"],[0.1111111111111111,\"#46039f\"],[0.2222222222222222,\"#7201a8\"],[0.3333333333333333,\"#9c179e\"],[0.4444444444444444,\"#bd3786\"],[0.5555555555555556,\"#d8576b\"],[0.6666666666666666,\"#ed7953\"],[0.7777777777777778,\"#fb9f3a\"],[0.8888888888888888,\"#fdca26\"],[1.0,\"#f0f921\"]]}],\"contourcarpet\":[{\"type\":\"contourcarpet\",\"colorbar\":{\"outlinewidth\":0,\"ticks\":\"\"}}],\"contour\":[{\"type\":\"contour\",\"colorbar\":{\"outlinewidth\":0,\"ticks\":\"\"},\"colorscale\":[[0.0,\"#0d0887\"],[0.1111111111111111,\"#46039f\"],[0.2222222222222222,\"#7201a8\"],[0.3333333333333333,\"#9c179e\"],[0.4444444444444444,\"#bd3786\"],[0.5555555555555556,\"#d8576b\"],[0.6666666666666666,\"#ed7953\"],[0.7777777777777778,\"#fb9f3a\"],[0.8888888888888888,\"#fdca26\"],[1.0,\"#f0f921\"]]}],\"surface\":[{\"type\":\"surface\",\"colorbar\":{\"outlinewidth\":0,\"ticks\":\"\"},\"colorscale\":[[0.0,\"#0d0887\"],[0.1111111111111111,\"#46039f\"],[0.2222222222222222,\"#7201a8\"],[0.3333333333333333,\"#9c179e\"],[0.4444444444444444,\"#bd3786\"],[0.5555555555555556,\"#d8576b\"],[0.6666666666666666,\"#ed7953\"],[0.7777777777777778,\"#fb9f3a\"],[0.8888888888888888,\"#fdca26\"],[1.0,\"#f0f921\"]]}],\"mesh3d\":[{\"type\":\"mesh3d\",\"colorbar\":{\"outlinewidth\":0,\"ticks\":\"\"}}],\"scatter\":[{\"fillpattern\":{\"fillmode\":\"overlay\",\"size\":10,\"solidity\":0.2},\"type\":\"scatter\"}],\"parcoords\":[{\"type\":\"parcoords\",\"line\":{\"colorbar\":{\"outlinewidth\":0,\"ticks\":\"\"}}}],\"scatterpolargl\":[{\"type\":\"scatterpolargl\",\"marker\":{\"colorbar\":{\"outlinewidth\":0,\"ticks\":\"\"}}}],\"bar\":[{\"error_x\":{\"color\":\"#2a3f5f\"},\"error_y\":{\"color\":\"#2a3f5f\"},\"marker\":{\"line\":{\"color\":\"#E5ECF6\",\"width\":0.5},\"pattern\":{\"fillmode\":\"overlay\",\"size\":10,\"solidity\":0.2}},\"type\":\"bar\"}],\"scattergeo\":[{\"type\":\"scattergeo\",\"marker\":{\"colorbar\":{\"outlinewidth\":0,\"ticks\":\"\"}}}],\"scatterpolar\":[{\"type\":\"scatterpolar\",\"marker\":{\"colorbar\":{\"outlinewidth\":0,\"ticks\":\"\"}}}],\"histogram\":[{\"marker\":{\"pattern\":{\"fillmode\":\"overlay\",\"size\":10,\"solidity\":0.2}},\"type\":\"histogram\"}],\"scattergl\":[{\"type\":\"scattergl\",\"marker\":{\"colorbar\":{\"outlinewidth\":0,\"ticks\":\"\"}}}],\"scatter3d\":[{\"type\":\"scatter3d\",\"line\":{\"colorbar\":{\"outlinewidth\":0,\"ticks\":\"\"}},\"marker\":{\"colorbar\":{\"outlinewidth\":0,\"ticks\":\"\"}}}],\"scattermapbox\":[{\"type\":\"scattermapbox\",\"marker\":{\"colorbar\":{\"outlinewidth\":0,\"ticks\":\"\"}}}],\"scatterternary\":[{\"type\":\"scatterternary\",\"marker\":{\"colorbar\":{\"outlinewidth\":0,\"ticks\":\"\"}}}],\"scattercarpet\":[{\"type\":\"scattercarpet\",\"marker\":{\"colorbar\":{\"outlinewidth\":0,\"ticks\":\"\"}}}],\"carpet\":[{\"aaxis\":{\"endlinecolor\":\"#2a3f5f\",\"gridcolor\":\"white\",\"linecolor\":\"white\",\"minorgridcolor\":\"white\",\"startlinecolor\":\"#2a3f5f\"},\"baxis\":{\"endlinecolor\":\"#2a3f5f\",\"gridcolor\":\"white\",\"linecolor\":\"white\",\"minorgridcolor\":\"white\",\"startlinecolor\":\"#2a3f5f\"},\"type\":\"carpet\"}],\"table\":[{\"cells\":{\"fill\":{\"color\":\"#EBF0F8\"},\"line\":{\"color\":\"white\"}},\"header\":{\"fill\":{\"color\":\"#C8D4E3\"},\"line\":{\"color\":\"white\"}},\"type\":\"table\"}],\"barpolar\":[{\"marker\":{\"line\":{\"color\":\"#E5ECF6\",\"width\":0.5},\"pattern\":{\"fillmode\":\"overlay\",\"size\":10,\"solidity\":0.2}},\"type\":\"barpolar\"}],\"pie\":[{\"automargin\":true,\"type\":\"pie\"}]},\"layout\":{\"autotypenumbers\":\"strict\",\"colorway\":[\"#636efa\",\"#EF553B\",\"#00cc96\",\"#ab63fa\",\"#FFA15A\",\"#19d3f3\",\"#FF6692\",\"#B6E880\",\"#FF97FF\",\"#FECB52\"],\"font\":{\"color\":\"#2a3f5f\"},\"hovermode\":\"closest\",\"hoverlabel\":{\"align\":\"left\"},\"paper_bgcolor\":\"white\",\"plot_bgcolor\":\"#E5ECF6\",\"polar\":{\"bgcolor\":\"#E5ECF6\",\"angularaxis\":{\"gridcolor\":\"white\",\"linecolor\":\"white\",\"ticks\":\"\"},\"radialaxis\":{\"gridcolor\":\"white\",\"linecolor\":\"white\",\"ticks\":\"\"}},\"ternary\":{\"bgcolor\":\"#E5ECF6\",\"aaxis\":{\"gridcolor\":\"white\",\"linecolor\":\"white\",\"ticks\":\"\"},\"baxis\":{\"gridcolor\":\"white\",\"linecolor\":\"white\",\"ticks\":\"\"},\"caxis\":{\"gridcolor\":\"white\",\"linecolor\":\"white\",\"ticks\":\"\"}},\"coloraxis\":{\"colorbar\":{\"outlinewidth\":0,\"ticks\":\"\"}},\"colorscale\":{\"sequential\":[[0.0,\"#0d0887\"],[0.1111111111111111,\"#46039f\"],[0.2222222222222222,\"#7201a8\"],[0.3333333333333333,\"#9c179e\"],[0.4444444444444444,\"#bd3786\"],[0.5555555555555556,\"#d8576b\"],[0.6666666666666666,\"#ed7953\"],[0.7777777777777778,\"#fb9f3a\"],[0.8888888888888888,\"#fdca26\"],[1.0,\"#f0f921\"]],\"sequentialminus\":[[0.0,\"#0d0887\"],[0.1111111111111111,\"#46039f\"],[0.2222222222222222,\"#7201a8\"],[0.3333333333333333,\"#9c179e\"],[0.4444444444444444,\"#bd3786\"],[0.5555555555555556,\"#d8576b\"],[0.6666666666666666,\"#ed7953\"],[0.7777777777777778,\"#fb9f3a\"],[0.8888888888888888,\"#fdca26\"],[1.0,\"#f0f921\"]],\"diverging\":[[0,\"#8e0152\"],[0.1,\"#c51b7d\"],[0.2,\"#de77ae\"],[0.3,\"#f1b6da\"],[0.4,\"#fde0ef\"],[0.5,\"#f7f7f7\"],[0.6,\"#e6f5d0\"],[0.7,\"#b8e186\"],[0.8,\"#7fbc41\"],[0.9,\"#4d9221\"],[1,\"#276419\"]]},\"xaxis\":{\"gridcolor\":\"white\",\"linecolor\":\"white\",\"ticks\":\"\",\"title\":{\"standoff\":15},\"zerolinecolor\":\"white\",\"automargin\":true,\"zerolinewidth\":2},\"yaxis\":{\"gridcolor\":\"white\",\"linecolor\":\"white\",\"ticks\":\"\",\"title\":{\"standoff\":15},\"zerolinecolor\":\"white\",\"automargin\":true,\"zerolinewidth\":2},\"scene\":{\"xaxis\":{\"backgroundcolor\":\"#E5ECF6\",\"gridcolor\":\"white\",\"linecolor\":\"white\",\"showbackground\":true,\"ticks\":\"\",\"zerolinecolor\":\"white\",\"gridwidth\":2},\"yaxis\":{\"backgroundcolor\":\"#E5ECF6\",\"gridcolor\":\"white\",\"linecolor\":\"white\",\"showbackground\":true,\"ticks\":\"\",\"zerolinecolor\":\"white\",\"gridwidth\":2},\"zaxis\":{\"backgroundcolor\":\"#E5ECF6\",\"gridcolor\":\"white\",\"linecolor\":\"white\",\"showbackground\":true,\"ticks\":\"\",\"zerolinecolor\":\"white\",\"gridwidth\":2}},\"shapedefaults\":{\"line\":{\"color\":\"#2a3f5f\"}},\"annotationdefaults\":{\"arrowcolor\":\"#2a3f5f\",\"arrowhead\":0,\"arrowwidth\":1},\"geo\":{\"bgcolor\":\"white\",\"landcolor\":\"#E5ECF6\",\"subunitcolor\":\"white\",\"showland\":true,\"showlakes\":true,\"lakecolor\":\"white\"},\"title\":{\"x\":0.05},\"mapbox\":{\"style\":\"light\"}}},\"xaxis\":{\"anchor\":\"y\",\"domain\":[0.0,0.94]},\"yaxis\":{\"anchor\":\"x\",\"domain\":[0.0,1.0],\"title\":{\"text\":\"Volume $\"},\"showgrid\":false},\"yaxis2\":{\"anchor\":\"x\",\"overlaying\":\"y\",\"side\":\"right\",\"title\":{\"text\":\"Price $\"},\"showgrid\":true},\"title\":{\"text\":\"ETH/USDC pool after Uniswap v3 deployment\"},\"height\":800},                        {\"responsive\": true}                    ).then(function(){\n",
       "                            \n",
       "var gd = document.getElementById('1e786057-8955-4d8a-b824-524b735fb29e');\n",
       "var x = new MutationObserver(function (mutations, observer) {{\n",
       "        var display = window.getComputedStyle(gd).display;\n",
       "        if (!display || display === 'none') {{\n",
       "            console.log([gd, 'removed!']);\n",
       "            Plotly.purge(gd);\n",
       "            observer.disconnect();\n",
       "        }}\n",
       "}});\n",
       "\n",
       "// Listen for the removal of the full notebook cells\n",
       "var notebookContainer = gd.closest('#notebook-container');\n",
       "if (notebookContainer) {{\n",
       "    x.observe(notebookContainer, {childList: true});\n",
       "}}\n",
       "\n",
       "// Listen for the clearing of the current output cell\n",
       "var outputEl = gd.closest('.output');\n",
       "if (outputEl) {{\n",
       "    x.observe(outputEl, {childList: true});\n",
       "}}\n",
       "\n",
       "                        })                };                });            </script>        </div>"
      ]
     },
     "metadata": {},
     "output_type": "display_data"
    }
   ],
   "source": [
    "import plotly.graph_objects as go\n",
    "from plotly.subplots import make_subplots\n",
    "\n",
    "candlesticks = go.Candlestick(\n",
    "    x=candles.index,\n",
    "    open=candles['open'],\n",
    "    high=candles['high'],\n",
    "    low=candles['low'],\n",
    "    close=candles['close'],\n",
    "    showlegend=False\n",
    ")\n",
    "\n",
    "volume_bars = go.Bar(\n",
    "    x=candles.index,\n",
    "    y=candles['volume'],\n",
    "    showlegend=False,\n",
    "    marker={\n",
    "        \"color\": \"rgba(128,128,128,0.5)\",\n",
    "    }\n",
    ")\n",
    "\n",
    "fig = go.Figure(candlesticks)\n",
    "fig = make_subplots(specs=[[{\"secondary_y\": True}]])\n",
    "fig.add_trace(candlesticks, secondary_y=True)\n",
    "fig.add_trace(volume_bars, secondary_y=False)\n",
    "fig.update_layout(title=\"ETH/USDC pool after Uniswap v3 deployment\", height=800)\n",
    "fig.update_yaxes(title=\"Price $\", secondary_y=True, showgrid=True)\n",
    "fig.update_yaxes(title=\"Volume $\", secondary_y=False, showgrid=False)\n",
    "fig.show()"
   ]
  },
  {
   "cell_type": "code",
   "execution_count": null,
   "metadata": {},
   "outputs": [],
   "source": []
  }
 ],
 "metadata": {
  "interpreter": {
   "hash": "9b6697946b59f1cda35d1a9d955611df8679c38ae8cee6d6fc35b656a9a31b3c"
  },
  "kernelspec": {
   "display_name": "Python 3 (ipykernel)",
   "language": "python",
   "name": "python3"
  },
  "language_info": {
   "codemirror_mode": {
    "name": "ipython",
    "version": 3
   },
   "file_extension": ".py",
   "mimetype": "text/x-python",
   "name": "python",
   "nbconvert_exporter": "python",
   "pygments_lexer": "ipython3",
   "version": "3.10.8"
  },
  "orig_nbformat": 4
 },
 "nbformat": 4,
 "nbformat_minor": 2
}
